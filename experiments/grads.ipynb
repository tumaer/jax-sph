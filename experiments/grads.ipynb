{
 "cells": [
  {
   "cell_type": "code",
   "execution_count": 1,
   "metadata": {},
   "outputs": [],
   "source": [
    "import os\n",
    "\n",
    "os.environ[\"CUDA_VISIBLE_DEVICES\"] = \"0\""
   ]
  },
  {
   "cell_type": "code",
   "execution_count": 2,
   "metadata": {},
   "outputs": [
    {
     "name": "stderr",
     "output_type": "stream",
     "text": [
      "2024-02-08 23:13:47.091749: W external/xla/xla/service/gpu/nvptx_compiler.cc:698] The NVIDIA driver's CUDA version is 12.2 which is older than the ptxas CUDA version (12.3.107). Because the driver is older than the ptxas version, XLA is disabling parallel compilation, which may slow down compilation. You should update your NVIDIA driver or use the NVIDIA-provided CUDA forward compatibility packages.\n"
     ]
    }
   ],
   "source": [
    "from argparse import Namespace\n",
    "\n",
    "import jax.numpy as jnp\n",
    "from jax import grad, jit\n",
    "from jax_md import space, partition\n",
    "from jax.test_util import check_grads\n",
    "import copy\n",
    "\n",
    "import scipy as sp\n",
    "import numpy as np\n",
    "import matplotlib.pyplot as plt\n",
    "\n",
    "from cases import select_case\n",
    "from jax_sph.solver.sph_tvf import SPHTVF\n",
    "from jax_sph.integrator import si_euler"
   ]
  },
  {
   "cell_type": "code",
   "execution_count": 3,
   "metadata": {},
   "outputs": [],
   "source": [
    "CASES = [\"TGV\", \"LDC\"]\n",
    "STEPS = 5\n",
    "WARMUP = 10\n",
    "N = 20\n",
    "\n",
    "dx = 1.0 / N\n",
    "dt = 0.0\n",
    "\n",
    "FD_EPS = 0.001 * dx  # np.sqrt(np.finfo(float).eps)"
   ]
  },
  {
   "cell_type": "code",
   "execution_count": 4,
   "metadata": {},
   "outputs": [],
   "source": [
    "def naive_fd_grad(fn, state, neighbors):\n",
    "    r = state[\"r\"]\n",
    "\n",
    "    def fn_(x):\n",
    "        state_ = state.copy()\n",
    "        state_[\"r\"] = x\n",
    "        return fn(state_, neighbors)\n",
    "\n",
    "    actual_grad = jnp.zeros_like(r)\n",
    "    for i in range(r.shape[0]):\n",
    "        for j in range(r.shape[1]):\n",
    "            f_left = fn_(r)\n",
    "            f_right = fn_(r.at[i, j].set(r[i, j] + FD_EPS))\n",
    "            actual_grad = actual_grad.at[i, j].set((f_right - f_left) / FD_EPS)\n",
    "    return actual_grad\n",
    "\n",
    "\n",
    "def scipy_fd_grad(fn, state, neighbors):\n",
    "    shape = state[\"r\"].shape\n",
    "    r = np.array(state[\"r\"]).flatten()\n",
    "\n",
    "    def fn_(x):\n",
    "        state_ = state.copy()\n",
    "        state_[\"r\"] = jnp.array(x.reshape(*shape))\n",
    "        return np.array(fn(state_, neighbors)).flatten()\n",
    "\n",
    "    grads = sp.optimize.approx_fprime(xk=r, f=fn_, epsilon=FD_EPS)\n",
    "    grads = jnp.array(grads).reshape(*shape)\n",
    "    return grads"
   ]
  },
  {
   "cell_type": "code",
   "execution_count": 5,
   "metadata": {},
   "outputs": [
    {
     "name": "stdout",
     "output_type": "stream",
     "text": [
      "Using gamma_EoS=1.0.\n",
      "dt_convective : 0.0011363636363636365\n",
      "dt_viscous    : 0.006250000000000001\n",
      "dt_body_force : 3751499.544919711\n",
      "dt_max        : 0.0011363636363636365\n",
      "dt_final      : 0.0011363636363636365\n",
      "Total number of particles =  400\n",
      "[TGV] Total error (scipy FD) = 0.014897\n",
      "Using gamma_EoS=1.0.\n",
      "dt_convective : 0.0011363636363636365\n",
      "dt_viscous    : 0.006250000000000001\n",
      "dt_body_force : 3751499.544919711\n",
      "dt_max        : 0.0011363636363636365\n",
      "dt_final      : 0.0011363636363636365\n",
      "Total number of particles =  676\n",
      "[LDC] Total error (scipy FD) = 0.036320\n"
     ]
    }
   ],
   "source": [
    "sph_grads = {}\n",
    "fd_grads = {}\n",
    "case_shapes = {}\n",
    "\n",
    "for case_id in CASES:\n",
    "    args = Namespace(\n",
    "        seed=0,\n",
    "        case=case_id,\n",
    "        viscosity=0.1,\n",
    "        dx=dx,\n",
    "        dt=dt,\n",
    "        t_end=1.0,\n",
    "        dim=2,\n",
    "        p_bg_factor=None,\n",
    "        g_ext_magnitude=None,\n",
    "        r0_noise_factor=0.0,\n",
    "    )\n",
    "\n",
    "    case = select_case(args.case)\n",
    "    args, box_size, state, g_ext_fn, bc_fn, eos_fn, key = case(args).initialize()\n",
    "\n",
    "    dt = args.dt\n",
    "    displ_fn, shift_fn = space.periodic(box_size)\n",
    "\n",
    "    neighbor_fn = partition.neighbor_list(\n",
    "        displ_fn, box_size, 0.15, format=partition.Sparse\n",
    "    )\n",
    "    neighbors = neighbor_fn.allocate(state[\"r\"], num_particles=state[\"r\"].shape[0])\n",
    "\n",
    "    model = SPHTVF(displ_fn, eos_fn, g_ext_fn, dx=dx, dim=2, dt=dt)\n",
    "\n",
    "    solver = si_euler(0.0, model, shift_fn, bc_fn)\n",
    "    solver = jit(solver)\n",
    "\n",
    "    # warm up initial state\n",
    "    for _ in range(WARMUP):\n",
    "        state, neighbors = solver(dt, state, neighbors)\n",
    "\n",
    "    def solver_fn(state, neighbors):\n",
    "        state_ = state.copy()\n",
    "        neighbors_ = copy.deepcopy(neighbors)\n",
    "        for _ in range(STEPS):\n",
    "            state_, neighbors_ = solver(dt, state_, neighbors_)\n",
    "        return (0.5 * state_[\"u\"] ** 2).sum()\n",
    "\n",
    "    # state_ = copy.deepcopy(state)\n",
    "    # neighbors_ = copy.deepcopy(neighbors)\n",
    "    # try:\n",
    "    #     def check_solver_fn(x):\n",
    "    #         state_[\"r\"] = x.reshape(*state_[\"r\"].shape)\n",
    "    #         return solver_fn(state_, neighbors_)\n",
    "    #     check_grads(check_solver_fn, (state_[\"r\"],), order=1, modes=[\"fwd\", \"rev\"], atol=1e-3, rtol=1e-3)\n",
    "    # except Exception as e:\n",
    "    #     print(f\"[{case_id}] Gradient mismatch: {e}\")\n",
    "\n",
    "    sph_grad = grad(solver_fn, argnums=(0,), allow_int=True)(state, neighbors)[0][\"r\"]\n",
    "\n",
    "    fd_grad = scipy_fd_grad(solver_fn, state, neighbors)\n",
    "    err = ((sph_grad - fd_grad) ** 2).mean()\n",
    "\n",
    "    sph_grads[case_id] = sph_grad\n",
    "    fd_grads[case_id] = fd_grad\n",
    "    ratio = box_size[1] / box_size[0]\n",
    "    num = int(state[\"r\"].shape[0] ** 0.5) if ratio == 1 else N\n",
    "    case_shapes[case_id] = (num, int(num * ratio))\n",
    "\n",
    "    print(f\"[{case_id}] Total error (scipy FD) = {err:.6f}\")"
   ]
  },
  {
   "cell_type": "markdown",
   "metadata": {},
   "source": [
    "## Gradient landscapes"
   ]
  },
  {
   "cell_type": "code",
   "execution_count": 6,
   "metadata": {},
   "outputs": [
    {
     "data": {
      "image/png": "[encoded data removed]",
      "text/plain": [
       "<Figure size 1000x500 with 2 Axes>"
      ]
     },
     "metadata": {},
     "output_type": "display_data"
    },
    {
     "data": {
      "image/png": "[encoded data removed]",
      "text/plain": [
       "<Figure size 1000x500 with 2 Axes>"
      ]
     },
     "metadata": {},
     "output_type": "display_data"
    }
   ],
   "source": [
    "for case_id in sph_grads:\n",
    "    sph_grad = sph_grads[case_id]\n",
    "    fd_grad = fd_grads[case_id]\n",
    "    shape = case_shapes[case_id]\n",
    "\n",
    "    fig, axs = plt.subplots(1, 2, figsize=(10, 5))\n",
    "    fig.tight_layout()\n",
    "\n",
    "    vmin = min(sph_grad.min(), fd_grad.min())\n",
    "    vmin = vmin * 1.1 if vmin < 0 else vmin * 0.9\n",
    "    vmax = max(sph_grad.max(), fd_grad.max())\n",
    "    vmax = vmax * 1.1 if vmax > 0 else vmax * 0.9\n",
    "\n",
    "    axs[0].imshow(sph_grad.sum(1).reshape(shape), cmap=\"coolwarm\", vmin=vmin, vmax=vmax)\n",
    "    axs[0].set_title(\"Autograd\", fontsize=26)\n",
    "    axs[1].imshow(fd_grad.sum(1).reshape(shape), cmap=\"coolwarm\", vmin=vmin, vmax=vmax)\n",
    "    axs[1].set_title(\"Finite differences\", fontsize=26)\n",
    "    axs[0].set_xticks([])\n",
    "    axs[0].set_yticks([])\n",
    "    axs[1].set_xticks([])\n",
    "    axs[1].set_yticks([])\n",
    "\n",
    "    plt.savefig(\n",
    "        f\"grad_comparison_{case_id}.pdf\", bbox_inches=\"tight\", pad_inches=0.1, dpi=300\n",
    "    )"
   ]
  },
  {
   "cell_type": "code",
   "execution_count": null,
   "metadata": {},
   "outputs": [],
   "source": []
  }
 ],
 "metadata": {
  "kernelspec": {
   "display_name": ".venv",
   "language": "python",
   "name": "python3"
  },
  "language_info": {
   "codemirror_mode": {
    "name": "ipython",
    "version": 3
   },
   "file_extension": ".py",
   "mimetype": "text/x-python",
   "name": "python",
   "nbconvert_exporter": "python",
   "pygments_lexer": "ipython3",
   "version": "3.10.12"
  }
 },
 "nbformat": 4,
 "nbformat_minor": 2
}
